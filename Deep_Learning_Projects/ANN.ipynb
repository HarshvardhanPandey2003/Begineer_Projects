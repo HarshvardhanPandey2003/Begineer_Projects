{
 "cells": [
  {
   "cell_type": "code",
   "execution_count": 64,
   "metadata": {},
   "outputs": [],
   "source": [
    "import tensorflow as tf "
   ]
  },
  {
   "cell_type": "code",
   "execution_count": 65,
   "metadata": {},
   "outputs": [],
   "source": [
    "import numpy as np\n",
    "import matplotlib.pyplot as plt\n",
    "import pandas as pd"
   ]
  },
  {
   "cell_type": "code",
   "execution_count": 66,
   "metadata": {},
   "outputs": [],
   "source": [
    "df=pd.read_csv('Churn_Modelling.csv')"
   ]
  },
  {
   "cell_type": "code",
   "execution_count": 67,
   "metadata": {},
   "outputs": [
    {
     "data": {
      "text/html": [
       "<div>\n",
       "<style scoped>\n",
       "    .dataframe tbody tr th:only-of-type {\n",
       "        vertical-align: middle;\n",
       "    }\n",
       "\n",
       "    .dataframe tbody tr th {\n",
       "        vertical-align: top;\n",
       "    }\n",
       "\n",
       "    .dataframe thead th {\n",
       "        text-align: right;\n",
       "    }\n",
       "</style>\n",
       "<table border=\"1\" class=\"dataframe\">\n",
       "  <thead>\n",
       "    <tr style=\"text-align: right;\">\n",
       "      <th></th>\n",
       "      <th>RowNumber</th>\n",
       "      <th>CustomerId</th>\n",
       "      <th>Surname</th>\n",
       "      <th>CreditScore</th>\n",
       "      <th>Geography</th>\n",
       "      <th>Gender</th>\n",
       "      <th>Age</th>\n",
       "      <th>Tenure</th>\n",
       "      <th>Balance</th>\n",
       "      <th>NumOfProducts</th>\n",
       "      <th>HasCrCard</th>\n",
       "      <th>IsActiveMember</th>\n",
       "      <th>EstimatedSalary</th>\n",
       "      <th>Exited</th>\n",
       "    </tr>\n",
       "  </thead>\n",
       "  <tbody>\n",
       "    <tr>\n",
       "      <th>0</th>\n",
       "      <td>1</td>\n",
       "      <td>15634602</td>\n",
       "      <td>Hargrave</td>\n",
       "      <td>619</td>\n",
       "      <td>France</td>\n",
       "      <td>Female</td>\n",
       "      <td>42</td>\n",
       "      <td>2</td>\n",
       "      <td>0.00</td>\n",
       "      <td>1</td>\n",
       "      <td>1</td>\n",
       "      <td>1</td>\n",
       "      <td>101348.88</td>\n",
       "      <td>1</td>\n",
       "    </tr>\n",
       "    <tr>\n",
       "      <th>1</th>\n",
       "      <td>2</td>\n",
       "      <td>15647311</td>\n",
       "      <td>Hill</td>\n",
       "      <td>608</td>\n",
       "      <td>Spain</td>\n",
       "      <td>Female</td>\n",
       "      <td>41</td>\n",
       "      <td>1</td>\n",
       "      <td>83807.86</td>\n",
       "      <td>1</td>\n",
       "      <td>0</td>\n",
       "      <td>1</td>\n",
       "      <td>112542.58</td>\n",
       "      <td>0</td>\n",
       "    </tr>\n",
       "    <tr>\n",
       "      <th>2</th>\n",
       "      <td>3</td>\n",
       "      <td>15619304</td>\n",
       "      <td>Onio</td>\n",
       "      <td>502</td>\n",
       "      <td>France</td>\n",
       "      <td>Female</td>\n",
       "      <td>42</td>\n",
       "      <td>8</td>\n",
       "      <td>159660.80</td>\n",
       "      <td>3</td>\n",
       "      <td>1</td>\n",
       "      <td>0</td>\n",
       "      <td>113931.57</td>\n",
       "      <td>1</td>\n",
       "    </tr>\n",
       "    <tr>\n",
       "      <th>3</th>\n",
       "      <td>4</td>\n",
       "      <td>15701354</td>\n",
       "      <td>Boni</td>\n",
       "      <td>699</td>\n",
       "      <td>France</td>\n",
       "      <td>Female</td>\n",
       "      <td>39</td>\n",
       "      <td>1</td>\n",
       "      <td>0.00</td>\n",
       "      <td>2</td>\n",
       "      <td>0</td>\n",
       "      <td>0</td>\n",
       "      <td>93826.63</td>\n",
       "      <td>0</td>\n",
       "    </tr>\n",
       "    <tr>\n",
       "      <th>4</th>\n",
       "      <td>5</td>\n",
       "      <td>15737888</td>\n",
       "      <td>Mitchell</td>\n",
       "      <td>850</td>\n",
       "      <td>Spain</td>\n",
       "      <td>Female</td>\n",
       "      <td>43</td>\n",
       "      <td>2</td>\n",
       "      <td>125510.82</td>\n",
       "      <td>1</td>\n",
       "      <td>1</td>\n",
       "      <td>1</td>\n",
       "      <td>79084.10</td>\n",
       "      <td>0</td>\n",
       "    </tr>\n",
       "  </tbody>\n",
       "</table>\n",
       "</div>"
      ],
      "text/plain": [
       "   RowNumber  CustomerId   Surname  CreditScore Geography  Gender  Age   \n",
       "0          1    15634602  Hargrave          619    France  Female   42  \\\n",
       "1          2    15647311      Hill          608     Spain  Female   41   \n",
       "2          3    15619304      Onio          502    France  Female   42   \n",
       "3          4    15701354      Boni          699    France  Female   39   \n",
       "4          5    15737888  Mitchell          850     Spain  Female   43   \n",
       "\n",
       "   Tenure    Balance  NumOfProducts  HasCrCard  IsActiveMember   \n",
       "0       2       0.00              1          1               1  \\\n",
       "1       1   83807.86              1          0               1   \n",
       "2       8  159660.80              3          1               0   \n",
       "3       1       0.00              2          0               0   \n",
       "4       2  125510.82              1          1               1   \n",
       "\n",
       "   EstimatedSalary  Exited  \n",
       "0        101348.88       1  \n",
       "1        112542.58       0  \n",
       "2        113931.57       1  \n",
       "3         93826.63       0  \n",
       "4         79084.10       0  "
      ]
     },
     "execution_count": 67,
     "metadata": {},
     "output_type": "execute_result"
    }
   ],
   "source": [
    "df.head()"
   ]
  },
  {
   "cell_type": "code",
   "execution_count": 68,
   "metadata": {},
   "outputs": [],
   "source": [
    "X = df.iloc[:,3:13]\n",
    "y = df.iloc[:,13]"
   ]
  },
  {
   "cell_type": "code",
   "execution_count": 69,
   "metadata": {},
   "outputs": [],
   "source": [
    "geo = pd.get_dummies(X['Geography'],drop_first=True)\n",
    "gender = pd.get_dummies(X['Gender'],drop_first=True)\n"
   ]
  },
  {
   "cell_type": "code",
   "execution_count": 70,
   "metadata": {},
   "outputs": [],
   "source": [
    "X=X.drop(['Geography','Gender'],axis=1)"
   ]
  },
  {
   "cell_type": "code",
   "execution_count": 71,
   "metadata": {},
   "outputs": [],
   "source": [
    "X = pd.concat([X,gender,geo],axis=1)"
   ]
  },
  {
   "cell_type": "code",
   "execution_count": 72,
   "metadata": {},
   "outputs": [
    {
     "data": {
      "text/html": [
       "<div>\n",
       "<style scoped>\n",
       "    .dataframe tbody tr th:only-of-type {\n",
       "        vertical-align: middle;\n",
       "    }\n",
       "\n",
       "    .dataframe tbody tr th {\n",
       "        vertical-align: top;\n",
       "    }\n",
       "\n",
       "    .dataframe thead th {\n",
       "        text-align: right;\n",
       "    }\n",
       "</style>\n",
       "<table border=\"1\" class=\"dataframe\">\n",
       "  <thead>\n",
       "    <tr style=\"text-align: right;\">\n",
       "      <th></th>\n",
       "      <th>CreditScore</th>\n",
       "      <th>Age</th>\n",
       "      <th>Tenure</th>\n",
       "      <th>Balance</th>\n",
       "      <th>NumOfProducts</th>\n",
       "      <th>HasCrCard</th>\n",
       "      <th>IsActiveMember</th>\n",
       "      <th>EstimatedSalary</th>\n",
       "      <th>Male</th>\n",
       "      <th>Germany</th>\n",
       "      <th>Spain</th>\n",
       "    </tr>\n",
       "  </thead>\n",
       "  <tbody>\n",
       "    <tr>\n",
       "      <th>0</th>\n",
       "      <td>619</td>\n",
       "      <td>42</td>\n",
       "      <td>2</td>\n",
       "      <td>0.00</td>\n",
       "      <td>1</td>\n",
       "      <td>1</td>\n",
       "      <td>1</td>\n",
       "      <td>101348.88</td>\n",
       "      <td>False</td>\n",
       "      <td>False</td>\n",
       "      <td>False</td>\n",
       "    </tr>\n",
       "    <tr>\n",
       "      <th>1</th>\n",
       "      <td>608</td>\n",
       "      <td>41</td>\n",
       "      <td>1</td>\n",
       "      <td>83807.86</td>\n",
       "      <td>1</td>\n",
       "      <td>0</td>\n",
       "      <td>1</td>\n",
       "      <td>112542.58</td>\n",
       "      <td>False</td>\n",
       "      <td>False</td>\n",
       "      <td>True</td>\n",
       "    </tr>\n",
       "    <tr>\n",
       "      <th>2</th>\n",
       "      <td>502</td>\n",
       "      <td>42</td>\n",
       "      <td>8</td>\n",
       "      <td>159660.80</td>\n",
       "      <td>3</td>\n",
       "      <td>1</td>\n",
       "      <td>0</td>\n",
       "      <td>113931.57</td>\n",
       "      <td>False</td>\n",
       "      <td>False</td>\n",
       "      <td>False</td>\n",
       "    </tr>\n",
       "    <tr>\n",
       "      <th>3</th>\n",
       "      <td>699</td>\n",
       "      <td>39</td>\n",
       "      <td>1</td>\n",
       "      <td>0.00</td>\n",
       "      <td>2</td>\n",
       "      <td>0</td>\n",
       "      <td>0</td>\n",
       "      <td>93826.63</td>\n",
       "      <td>False</td>\n",
       "      <td>False</td>\n",
       "      <td>False</td>\n",
       "    </tr>\n",
       "    <tr>\n",
       "      <th>4</th>\n",
       "      <td>850</td>\n",
       "      <td>43</td>\n",
       "      <td>2</td>\n",
       "      <td>125510.82</td>\n",
       "      <td>1</td>\n",
       "      <td>1</td>\n",
       "      <td>1</td>\n",
       "      <td>79084.10</td>\n",
       "      <td>False</td>\n",
       "      <td>False</td>\n",
       "      <td>True</td>\n",
       "    </tr>\n",
       "  </tbody>\n",
       "</table>\n",
       "</div>"
      ],
      "text/plain": [
       "   CreditScore  Age  Tenure    Balance  NumOfProducts  HasCrCard   \n",
       "0          619   42       2       0.00              1          1  \\\n",
       "1          608   41       1   83807.86              1          0   \n",
       "2          502   42       8  159660.80              3          1   \n",
       "3          699   39       1       0.00              2          0   \n",
       "4          850   43       2  125510.82              1          1   \n",
       "\n",
       "   IsActiveMember  EstimatedSalary   Male  Germany  Spain  \n",
       "0               1        101348.88  False    False  False  \n",
       "1               1        112542.58  False    False   True  \n",
       "2               0        113931.57  False    False  False  \n",
       "3               0         93826.63  False    False  False  \n",
       "4               1         79084.10  False    False   True  "
      ]
     },
     "execution_count": 72,
     "metadata": {},
     "output_type": "execute_result"
    }
   ],
   "source": [
    "X.head()"
   ]
  },
  {
   "cell_type": "code",
   "execution_count": 74,
   "metadata": {},
   "outputs": [
    {
     "data": {
      "text/plain": [
       "dtype('bool')"
      ]
     },
     "execution_count": 74,
     "metadata": {},
     "output_type": "execute_result"
    }
   ],
   "source": [
    "X['Male'].dtype"
   ]
  },
  {
   "cell_type": "code",
   "execution_count": null,
   "metadata": {},
   "outputs": [],
   "source": [
    "from sklearn.model_selection import train_test_split\n",
    "\n",
    "X_train, X_test, y_train, y_test = train_test_split(X, y, test_size=0.2, random_state=42)"
   ]
  },
  {
   "cell_type": "code",
   "execution_count": null,
   "metadata": {},
   "outputs": [],
   "source": [
    "sdfg"
   ]
  },
  {
   "cell_type": "code",
   "execution_count": null,
   "metadata": {},
   "outputs": [],
   "source": [
    "from sklearn.preprocessing import StandardScaler\n",
    "\n",
    "# Create an instance of the StandardScaler\n",
    "scaler = StandardScaler()\n",
    "\n",
    "# Fit and transform the scaler on your feature data\n",
    "X_train = scaler.fit_transform(X_train)\n",
    "X_test = scaler.transform(X_test)\n"
   ]
  },
  {
   "cell_type": "code",
   "execution_count": null,
   "metadata": {},
   "outputs": [],
   "source": [
    "from tensorflow.keras.models import Sequential\n",
    "from tensorflow.keras.layers import Dense\n",
    "from tensorflow.keras.layers import ReLU,ELU,LeakyReLU,PReLU\n",
    "from tensorflow.keras.layers import Dropout\n",
    "# What Dropout does is it makes 30% of the neurons as NULL\n"
   ]
  },
  {
   "cell_type": "code",
   "execution_count": null,
   "metadata": {},
   "outputs": [],
   "source": [
    "classifier=Sequential()"
   ]
  },
  {
   "cell_type": "code",
   "execution_count": null,
   "metadata": {},
   "outputs": [],
   "source": [
    "# Adding 1 input and 2 Hidden Layers\n",
    "classifier.add(Dense(units=11,activation='relu'))\n",
    "classifier.add(Dense(units=7,activation='relu'))\n",
    "classifier.add(Dropout(0.2))\n",
    "classifier.add(Dense(units=6,activation='relu'))\n",
    "classifier.add(Dropout(0.3))"
   ]
  },
  {
   "cell_type": "code",
   "execution_count": null,
   "metadata": {},
   "outputs": [],
   "source": [
    "#Adding the Output layer\n",
    "classifier.add(Dense(1,activation='sigmoid'))"
   ]
  },
  {
   "cell_type": "code",
   "execution_count": null,
   "metadata": {},
   "outputs": [],
   "source": [
    "# By default adam uses learning rate as 0.1\n",
    "classifier.compile(optimizer='adam',loss='binary_crossentropy',metrics=['accuracy'])"
   ]
  },
  {
   "cell_type": "code",
   "execution_count": null,
   "metadata": {},
   "outputs": [
    {
     "data": {
      "text/plain": [
       "'import tensorflow \\nopt=tensorflow.keras.optimizers.Adam(learning_rate=0.01)'"
      ]
     },
     "execution_count": 42,
     "metadata": {},
     "output_type": "execute_result"
    }
   ],
   "source": [
    "# You can even change the learning rate \n",
    "\"\"\"import tensorflow \n",
    "opt=tensorflow.keras.optimizers.Adam(learning_rate=0.01)\"\"\""
   ]
  },
  {
   "cell_type": "code",
   "execution_count": null,
   "metadata": {},
   "outputs": [],
   "source": [
    "# Early Stopping \n",
    "\n",
    "early_stopping=tf.keras.callbacks.EarlyStopping(\n",
    "    monitor=\"val_loss\",\n",
    "    min_delta=0.0001,\n",
    "    patience= 20,\n",
    "    verbose=1,\n",
    "    mode=\"auto\",\n",
    "    baseline=None,\n",
    "    restore_best_weights=False,\n",
    ")\n",
    "#patience : No. of iterations of epoch\n",
    "#verbose : \n",
    "#monitor : Means trianing will stop is monitor stops decreasing \n",
    "#min"
   ]
  },
  {
   "cell_type": "code",
   "execution_count": null,
   "metadata": {},
   "outputs": [
    {
     "name": "stdout",
     "output_type": "stream",
     "text": [
      "Epoch 1/100\n"
     ]
    },
    {
     "name": "stdout",
     "output_type": "stream",
     "text": [
      "536/536 [==============================] - 4s 4ms/step - loss: 0.5331 - accuracy: 0.7839 - val_loss: 0.4700 - val_accuracy: 0.7910\n",
      "Epoch 2/100\n",
      "536/536 [==============================] - 2s 4ms/step - loss: 0.4802 - accuracy: 0.7953 - val_loss: 0.4525 - val_accuracy: 0.7910\n",
      "Epoch 3/100\n",
      "536/536 [==============================] - 2s 3ms/step - loss: 0.4678 - accuracy: 0.7964 - val_loss: 0.4447 - val_accuracy: 0.7910\n",
      "Epoch 4/100\n",
      "536/536 [==============================] - 2s 3ms/step - loss: 0.4578 - accuracy: 0.7964 - val_loss: 0.4401 - val_accuracy: 0.7910\n",
      "Epoch 5/100\n",
      "536/536 [==============================] - 2s 3ms/step - loss: 0.4433 - accuracy: 0.8052 - val_loss: 0.4303 - val_accuracy: 0.8012\n",
      "Epoch 6/100\n",
      "536/536 [==============================] - 2s 3ms/step - loss: 0.4368 - accuracy: 0.8095 - val_loss: 0.4244 - val_accuracy: 0.8088\n",
      "Epoch 7/100\n",
      "536/536 [==============================] - 2s 3ms/step - loss: 0.4343 - accuracy: 0.8112 - val_loss: 0.4190 - val_accuracy: 0.8232\n",
      "Epoch 8/100\n",
      "536/536 [==============================] - 2s 4ms/step - loss: 0.4257 - accuracy: 0.8168 - val_loss: 0.4105 - val_accuracy: 0.8292\n",
      "Epoch 9/100\n",
      "536/536 [==============================] - 2s 4ms/step - loss: 0.4188 - accuracy: 0.8255 - val_loss: 0.4028 - val_accuracy: 0.8307\n",
      "Epoch 10/100\n",
      "536/536 [==============================] - 2s 4ms/step - loss: 0.4129 - accuracy: 0.8207 - val_loss: 0.3945 - val_accuracy: 0.8319\n",
      "Epoch 11/100\n",
      "536/536 [==============================] - 2s 3ms/step - loss: 0.4008 - accuracy: 0.8313 - val_loss: 0.3877 - val_accuracy: 0.8395\n",
      "Epoch 12/100\n",
      "536/536 [==============================] - 2s 3ms/step - loss: 0.4013 - accuracy: 0.8328 - val_loss: 0.3847 - val_accuracy: 0.8421\n",
      "Epoch 13/100\n",
      "536/536 [==============================] - 2s 3ms/step - loss: 0.3966 - accuracy: 0.8337 - val_loss: 0.3815 - val_accuracy: 0.8470\n",
      "Epoch 14/100\n",
      "536/536 [==============================] - 2s 3ms/step - loss: 0.3899 - accuracy: 0.8326 - val_loss: 0.3775 - val_accuracy: 0.8470\n",
      "Epoch 15/100\n",
      "536/536 [==============================] - 1s 3ms/step - loss: 0.3859 - accuracy: 0.8349 - val_loss: 0.3773 - val_accuracy: 0.8448\n",
      "Epoch 16/100\n",
      "536/536 [==============================] - 1s 3ms/step - loss: 0.3850 - accuracy: 0.8326 - val_loss: 0.3740 - val_accuracy: 0.8466\n",
      "Epoch 17/100\n",
      "536/536 [==============================] - 2s 3ms/step - loss: 0.3875 - accuracy: 0.8332 - val_loss: 0.3701 - val_accuracy: 0.8516\n",
      "Epoch 18/100\n",
      "536/536 [==============================] - 2s 3ms/step - loss: 0.3907 - accuracy: 0.8317 - val_loss: 0.3736 - val_accuracy: 0.8463\n",
      "Epoch 19/100\n",
      "536/536 [==============================] - 2s 4ms/step - loss: 0.3847 - accuracy: 0.8326 - val_loss: 0.3682 - val_accuracy: 0.8527\n",
      "Epoch 20/100\n",
      "536/536 [==============================] - 2s 3ms/step - loss: 0.3828 - accuracy: 0.8350 - val_loss: 0.3725 - val_accuracy: 0.8470\n",
      "Epoch 21/100\n",
      "536/536 [==============================] - 1s 3ms/step - loss: 0.3830 - accuracy: 0.8298 - val_loss: 0.3690 - val_accuracy: 0.8485\n",
      "Epoch 22/100\n",
      "536/536 [==============================] - 2s 3ms/step - loss: 0.3890 - accuracy: 0.8308 - val_loss: 0.3706 - val_accuracy: 0.8474\n",
      "Epoch 23/100\n",
      "536/536 [==============================] - 1s 3ms/step - loss: 0.3854 - accuracy: 0.8317 - val_loss: 0.3696 - val_accuracy: 0.8478\n",
      "Epoch 24/100\n",
      "536/536 [==============================] - 2s 3ms/step - loss: 0.3792 - accuracy: 0.8360 - val_loss: 0.3695 - val_accuracy: 0.8489\n",
      "Epoch 25/100\n",
      "536/536 [==============================] - 2s 4ms/step - loss: 0.3812 - accuracy: 0.8319 - val_loss: 0.3715 - val_accuracy: 0.8508\n",
      "Epoch 26/100\n",
      "536/536 [==============================] - 2s 4ms/step - loss: 0.3775 - accuracy: 0.8350 - val_loss: 0.3734 - val_accuracy: 0.8482\n",
      "Epoch 27/100\n",
      "536/536 [==============================] - 2s 3ms/step - loss: 0.3732 - accuracy: 0.8386 - val_loss: 0.3672 - val_accuracy: 0.8512\n",
      "Epoch 28/100\n",
      "536/536 [==============================] - 2s 3ms/step - loss: 0.3803 - accuracy: 0.8326 - val_loss: 0.3659 - val_accuracy: 0.8512\n",
      "Epoch 29/100\n",
      "536/536 [==============================] - 2s 3ms/step - loss: 0.3770 - accuracy: 0.8403 - val_loss: 0.3658 - val_accuracy: 0.8493\n",
      "Epoch 30/100\n",
      "536/536 [==============================] - 2s 3ms/step - loss: 0.3812 - accuracy: 0.8349 - val_loss: 0.3656 - val_accuracy: 0.8485\n",
      "Epoch 31/100\n",
      "536/536 [==============================] - 2s 4ms/step - loss: 0.3747 - accuracy: 0.8354 - val_loss: 0.3634 - val_accuracy: 0.8512\n",
      "Epoch 32/100\n",
      "536/536 [==============================] - 2s 3ms/step - loss: 0.3772 - accuracy: 0.8328 - val_loss: 0.3672 - val_accuracy: 0.8504\n",
      "Epoch 33/100\n",
      "536/536 [==============================] - 2s 4ms/step - loss: 0.3715 - accuracy: 0.8343 - val_loss: 0.3679 - val_accuracy: 0.8508\n",
      "Epoch 34/100\n",
      "536/536 [==============================] - 2s 3ms/step - loss: 0.3800 - accuracy: 0.8326 - val_loss: 0.3660 - val_accuracy: 0.8501\n",
      "Epoch 35/100\n",
      "536/536 [==============================] - 2s 4ms/step - loss: 0.3713 - accuracy: 0.8330 - val_loss: 0.3651 - val_accuracy: 0.8504\n",
      "Epoch 36/100\n",
      "536/536 [==============================] - 3s 5ms/step - loss: 0.3736 - accuracy: 0.8364 - val_loss: 0.3612 - val_accuracy: 0.8508\n",
      "Epoch 37/100\n",
      "536/536 [==============================] - 2s 3ms/step - loss: 0.3683 - accuracy: 0.8377 - val_loss: 0.3658 - val_accuracy: 0.8516\n",
      "Epoch 38/100\n",
      "536/536 [==============================] - 2s 4ms/step - loss: 0.3679 - accuracy: 0.8360 - val_loss: 0.3660 - val_accuracy: 0.8489\n",
      "Epoch 39/100\n",
      "536/536 [==============================] - 2s 3ms/step - loss: 0.3731 - accuracy: 0.8332 - val_loss: 0.3653 - val_accuracy: 0.8527\n",
      "Epoch 40/100\n",
      "536/536 [==============================] - 2s 4ms/step - loss: 0.3751 - accuracy: 0.8328 - val_loss: 0.3649 - val_accuracy: 0.8542\n",
      "Epoch 41/100\n",
      "536/536 [==============================] - 1s 3ms/step - loss: 0.3717 - accuracy: 0.8315 - val_loss: 0.3651 - val_accuracy: 0.8557\n",
      "Epoch 42/100\n",
      "536/536 [==============================] - 2s 3ms/step - loss: 0.3690 - accuracy: 0.8386 - val_loss: 0.3630 - val_accuracy: 0.8508\n",
      "Epoch 43/100\n",
      "536/536 [==============================] - 2s 3ms/step - loss: 0.3703 - accuracy: 0.8343 - val_loss: 0.3606 - val_accuracy: 0.8542\n",
      "Epoch 44/100\n",
      "536/536 [==============================] - 2s 3ms/step - loss: 0.3652 - accuracy: 0.8365 - val_loss: 0.3642 - val_accuracy: 0.8523\n",
      "Epoch 45/100\n",
      "536/536 [==============================] - 2s 3ms/step - loss: 0.3682 - accuracy: 0.8350 - val_loss: 0.3627 - val_accuracy: 0.8523\n",
      "Epoch 46/100\n",
      "536/536 [==============================] - 1s 3ms/step - loss: 0.3699 - accuracy: 0.8380 - val_loss: 0.3627 - val_accuracy: 0.8565\n",
      "Epoch 47/100\n",
      "536/536 [==============================] - 1s 2ms/step - loss: 0.3639 - accuracy: 0.8386 - val_loss: 0.3608 - val_accuracy: 0.8542\n",
      "Epoch 48/100\n",
      "536/536 [==============================] - 1s 3ms/step - loss: 0.3606 - accuracy: 0.8395 - val_loss: 0.3628 - val_accuracy: 0.8554\n",
      "Epoch 49/100\n",
      "536/536 [==============================] - 1s 3ms/step - loss: 0.3613 - accuracy: 0.8393 - val_loss: 0.3601 - val_accuracy: 0.8542\n",
      "Epoch 50/100\n",
      "536/536 [==============================] - 1s 3ms/step - loss: 0.3727 - accuracy: 0.8328 - val_loss: 0.3633 - val_accuracy: 0.8550\n",
      "Epoch 51/100\n",
      "536/536 [==============================] - 1s 3ms/step - loss: 0.3646 - accuracy: 0.8371 - val_loss: 0.3625 - val_accuracy: 0.8550\n",
      "Epoch 52/100\n",
      "536/536 [==============================] - 1s 3ms/step - loss: 0.3627 - accuracy: 0.8403 - val_loss: 0.3645 - val_accuracy: 0.8550\n",
      "Epoch 53/100\n",
      "536/536 [==============================] - 1s 3ms/step - loss: 0.3687 - accuracy: 0.8354 - val_loss: 0.3634 - val_accuracy: 0.8538\n",
      "Epoch 54/100\n",
      "536/536 [==============================] - 1s 2ms/step - loss: 0.3665 - accuracy: 0.8347 - val_loss: 0.3612 - val_accuracy: 0.8535\n",
      "Epoch 55/100\n",
      "536/536 [==============================] - 1s 3ms/step - loss: 0.3627 - accuracy: 0.8326 - val_loss: 0.3614 - val_accuracy: 0.8550\n",
      "Epoch 56/100\n",
      "536/536 [==============================] - 1s 3ms/step - loss: 0.3688 - accuracy: 0.8324 - val_loss: 0.3631 - val_accuracy: 0.8531\n",
      "Epoch 57/100\n",
      "536/536 [==============================] - 1s 3ms/step - loss: 0.3660 - accuracy: 0.8365 - val_loss: 0.3607 - val_accuracy: 0.8580\n",
      "Epoch 58/100\n",
      "536/536 [==============================] - 1s 3ms/step - loss: 0.3650 - accuracy: 0.8360 - val_loss: 0.3632 - val_accuracy: 0.8576\n",
      "Epoch 59/100\n",
      "536/536 [==============================] - 1s 3ms/step - loss: 0.3634 - accuracy: 0.8371 - val_loss: 0.3624 - val_accuracy: 0.8550\n",
      "Epoch 60/100\n",
      "536/536 [==============================] - 1s 3ms/step - loss: 0.3624 - accuracy: 0.8382 - val_loss: 0.3634 - val_accuracy: 0.8527\n",
      "Epoch 61/100\n",
      "536/536 [==============================] - 1s 3ms/step - loss: 0.3696 - accuracy: 0.8349 - val_loss: 0.3635 - val_accuracy: 0.8569\n",
      "Epoch 62/100\n",
      "536/536 [==============================] - 1s 2ms/step - loss: 0.3631 - accuracy: 0.8397 - val_loss: 0.3654 - val_accuracy: 0.8554\n",
      "Epoch 63/100\n",
      "536/536 [==============================] - 1s 2ms/step - loss: 0.3641 - accuracy: 0.8367 - val_loss: 0.3632 - val_accuracy: 0.8546\n",
      "Epoch 64/100\n",
      "536/536 [==============================] - 1s 2ms/step - loss: 0.3639 - accuracy: 0.8360 - val_loss: 0.3629 - val_accuracy: 0.8557\n",
      "Epoch 65/100\n",
      "536/536 [==============================] - 1s 2ms/step - loss: 0.3611 - accuracy: 0.8371 - val_loss: 0.3616 - val_accuracy: 0.8546\n",
      "Epoch 66/100\n",
      "536/536 [==============================] - 1s 2ms/step - loss: 0.3603 - accuracy: 0.8386 - val_loss: 0.3576 - val_accuracy: 0.8538\n",
      "Epoch 67/100\n",
      "536/536 [==============================] - 1s 2ms/step - loss: 0.3581 - accuracy: 0.8401 - val_loss: 0.3634 - val_accuracy: 0.8546\n",
      "Epoch 68/100\n",
      "536/536 [==============================] - 1s 2ms/step - loss: 0.3667 - accuracy: 0.8405 - val_loss: 0.3611 - val_accuracy: 0.8561\n",
      "Epoch 69/100\n",
      "536/536 [==============================] - 1s 3ms/step - loss: 0.3620 - accuracy: 0.8364 - val_loss: 0.3641 - val_accuracy: 0.8535\n",
      "Epoch 70/100\n",
      "536/536 [==============================] - 1s 2ms/step - loss: 0.3636 - accuracy: 0.8358 - val_loss: 0.3615 - val_accuracy: 0.8580\n",
      "Epoch 71/100\n",
      "536/536 [==============================] - 1s 2ms/step - loss: 0.3623 - accuracy: 0.8350 - val_loss: 0.3639 - val_accuracy: 0.8550\n",
      "Epoch 72/100\n",
      "536/536 [==============================] - 1s 2ms/step - loss: 0.3616 - accuracy: 0.8354 - val_loss: 0.3648 - val_accuracy: 0.8565\n",
      "Epoch 73/100\n",
      "536/536 [==============================] - 1s 2ms/step - loss: 0.3561 - accuracy: 0.8395 - val_loss: 0.3635 - val_accuracy: 0.8546\n",
      "Epoch 74/100\n",
      "536/536 [==============================] - 1s 3ms/step - loss: 0.3620 - accuracy: 0.8371 - val_loss: 0.3627 - val_accuracy: 0.8542\n",
      "Epoch 75/100\n",
      "536/536 [==============================] - 1s 2ms/step - loss: 0.3587 - accuracy: 0.8412 - val_loss: 0.3647 - val_accuracy: 0.8561\n",
      "Epoch 76/100\n",
      "536/536 [==============================] - 1s 2ms/step - loss: 0.3580 - accuracy: 0.8382 - val_loss: 0.3642 - val_accuracy: 0.8538\n",
      "Epoch 77/100\n",
      "536/536 [==============================] - 1s 2ms/step - loss: 0.3672 - accuracy: 0.8334 - val_loss: 0.3637 - val_accuracy: 0.8538\n",
      "Epoch 78/100\n",
      "536/536 [==============================] - 1s 2ms/step - loss: 0.3630 - accuracy: 0.8365 - val_loss: 0.3627 - val_accuracy: 0.8531\n",
      "Epoch 79/100\n",
      "536/536 [==============================] - 1s 3ms/step - loss: 0.3652 - accuracy: 0.8347 - val_loss: 0.3650 - val_accuracy: 0.8531\n",
      "Epoch 80/100\n",
      "536/536 [==============================] - 1s 3ms/step - loss: 0.3621 - accuracy: 0.8345 - val_loss: 0.3635 - val_accuracy: 0.8512\n",
      "Epoch 81/100\n",
      "536/536 [==============================] - 1s 2ms/step - loss: 0.3510 - accuracy: 0.8408 - val_loss: 0.3619 - val_accuracy: 0.8542\n",
      "Epoch 82/100\n",
      "536/536 [==============================] - 1s 2ms/step - loss: 0.3616 - accuracy: 0.8354 - val_loss: 0.3631 - val_accuracy: 0.8531\n",
      "Epoch 83/100\n",
      "536/536 [==============================] - 1s 2ms/step - loss: 0.3571 - accuracy: 0.8410 - val_loss: 0.3622 - val_accuracy: 0.8580\n",
      "Epoch 84/100\n",
      "536/536 [==============================] - 1s 2ms/step - loss: 0.3580 - accuracy: 0.8386 - val_loss: 0.3650 - val_accuracy: 0.8550\n",
      "Epoch 85/100\n",
      "536/536 [==============================] - 1s 2ms/step - loss: 0.3625 - accuracy: 0.8377 - val_loss: 0.3630 - val_accuracy: 0.8535\n",
      "Epoch 86/100\n",
      "536/536 [==============================] - 1s 2ms/step - loss: 0.3567 - accuracy: 0.8397 - val_loss: 0.3635 - val_accuracy: 0.8542\n",
      "Epoch 86: early stopping\n"
     ]
    }
   ],
   "source": [
    "model_history=classifier.fit(X_train,y_train,validation_split=0.33,batch_size=10,epochs=100,callbacks=early_stopping)"
   ]
  },
  {
   "cell_type": "code",
   "execution_count": null,
   "metadata": {},
   "outputs": [
    {
     "data": {
      "text/plain": [
       "dict_keys(['loss', 'accuracy', 'val_loss', 'val_accuracy'])"
      ]
     },
     "execution_count": 45,
     "metadata": {},
     "output_type": "execute_result"
    }
   ],
   "source": [
    "model_history.history.keys()"
   ]
  },
  {
   "cell_type": "code",
   "execution_count": null,
   "metadata": {},
   "outputs": [
    {
     "data": {
      "image/png": "[encoded data removed]",
      "text/plain": [
       "<Figure size 640x480 with 1 Axes>"
      ]
     },
     "metadata": {},
     "output_type": "display_data"
    }
   ],
   "source": [
    "# Summarize History for accuracy \n",
    "plt.plot(model_history.history['accuracy'])\n",
    "plt.plot(model_history.history['val_accuracy'])\n",
    "plt.title('model accuracy')\n",
    "plt.ylabel('accuracy')\n",
    "plt.xlabel('epoch')\n",
    "plt.legend(['train','test'],loc = 'upper left')\n",
    "plt.show()"
   ]
  },
  {
   "cell_type": "code",
   "execution_count": null,
   "metadata": {},
   "outputs": [
    {
     "name": "stdout",
     "output_type": "stream",
     "text": [
      "63/63 [==============================] - 0s 2ms/step\n"
     ]
    }
   ],
   "source": [
    "y_pred=classifier.predict(X_test)\n",
    "y_pred = (y_pred >= 0.5)"
   ]
  },
  {
   "cell_type": "code",
   "execution_count": null,
   "metadata": {},
   "outputs": [
    {
     "data": {
      "text/plain": [
       "array([[1561,   46],\n",
       "       [ 236,  157]], dtype=int64)"
      ]
     },
     "execution_count": 48,
     "metadata": {},
     "output_type": "execute_result"
    }
   ],
   "source": [
    "from sklearn.metrics import confusion_matrix\n",
    "\n",
    "cm=confusion_matrix(y_test,y_pred)\n",
    "cm"
   ]
  },
  {
   "cell_type": "code",
   "execution_count": null,
   "metadata": {},
   "outputs": [],
   "source": [
    "from sklearn.metrics import accuracy_score\n",
    "score = accuracy_score(y_pred,y_test)"
   ]
  },
  {
   "cell_type": "code",
   "execution_count": null,
   "metadata": {},
   "outputs": [
    {
     "data": {
      "text/plain": [
       "0.859"
      ]
     },
     "execution_count": 50,
     "metadata": {},
     "output_type": "execute_result"
    }
   ],
   "source": [
    "score"
   ]
  },
  {
   "cell_type": "code",
   "execution_count": null,
   "metadata": {},
   "outputs": [
    {
     "data": {
      "text/plain": [
       "[array([[ 0.03867729, -0.06857356,  0.06892234,  0.22002947,  0.03974967,\n",
       "          0.05432298,  0.01810605,  0.09708914, -0.08439267,  0.18576272,\n",
       "          0.15225103],\n",
       "        [ 0.6797338 ,  0.6053494 ,  0.1867825 , -0.15415658,  0.75677276,\n",
       "         -0.84094334,  0.00109066, -0.8249901 , -0.82028764, -0.05723535,\n",
       "          0.37208524],\n",
       "        [ 0.00495924, -0.13913369,  0.1021288 ,  0.1301382 ,  0.06525462,\n",
       "         -0.00820983, -0.01528739, -0.02700599,  0.10311034,  0.00153889,\n",
       "          0.08636742],\n",
       "        [-0.3986963 ,  0.27299452, -0.8211399 ,  0.05818202, -0.01941136,\n",
       "         -0.10880374, -0.4846687 , -0.01123641, -0.20311253,  0.02587218,\n",
       "         -0.14543727],\n",
       "        [-0.6938385 ,  0.9630513 , -0.13088673,  1.0595607 ,  0.85371166,\n",
       "          0.64666355,  0.8839534 ,  0.01533637,  0.9725519 , -0.4234619 ,\n",
       "          0.20366731],\n",
       "        [-0.00698658, -0.05242362, -0.12115719,  0.01572081,  0.04578005,\n",
       "         -0.08804486, -0.00991114,  0.02894813, -0.12539405,  0.30655962,\n",
       "          0.01569606],\n",
       "        [ 0.15615492, -0.41150436, -0.01856332, -0.17073339,  0.38911957,\n",
       "         -0.740297  , -0.01526708,  0.86764926,  0.48586586, -0.3236698 ,\n",
       "          0.37526238],\n",
       "        [ 0.12628816,  0.03567037,  0.05395563, -0.10430208, -0.03143487,\n",
       "          0.11593335,  0.00703086,  0.13641022,  0.32255405,  0.10887603,\n",
       "         -0.02084326],\n",
       "        [ 0.01168358,  0.05283684,  0.21496983, -0.38712406,  0.12732784,\n",
       "          0.14554614,  0.05185646,  0.09163681,  0.29486418, -0.32748684,\n",
       "          0.3251097 ],\n",
       "        [ 0.14601287, -0.0711588 ,  0.5246321 ,  0.30793953, -0.05672657,\n",
       "         -0.08751936,  0.4925133 , -0.03138112,  0.09806216,  0.5602052 ,\n",
       "          0.17691037],\n",
       "        [-0.06882548, -0.01816881,  0.14107877,  0.17406198, -0.16507575,\n",
       "         -0.2697238 ,  0.17022598, -0.22619875,  0.46159768, -0.40614286,\n",
       "          0.5973181 ]], dtype=float32),\n",
       " array([-0.33138332, -0.28782755,  0.60464007, -0.6154145 , -0.5325481 ,\n",
       "         0.49501854,  0.39735097,  0.22322153, -0.28687656, -0.05143475,\n",
       "         0.01632891], dtype=float32),\n",
       " array([[ 0.55030006, -0.7184411 , -0.04234412, -0.45970622,  0.10933588,\n",
       "         -1.5884359 ,  0.09784564],\n",
       "        [-0.09172871, -0.34260544, -0.36466604, -0.76405495, -0.4027549 ,\n",
       "          0.5901446 ,  0.6924317 ],\n",
       "        [-0.62483495, -0.12868066, -0.03542366, -0.15857607, -0.29959145,\n",
       "         -0.732468  ,  0.2595855 ],\n",
       "        [-0.22834477,  0.04810737, -1.1670111 , -0.41102865, -0.9920972 ,\n",
       "          0.05930046,  0.04043575],\n",
       "        [ 0.2161335 , -0.80414516,  0.4446221 , -0.20062426,  0.2611955 ,\n",
       "          0.23266363, -0.6235472 ],\n",
       "        [-0.15567888,  0.1826905 , -0.44912404,  0.33973792,  0.5645133 ,\n",
       "         -0.1621399 , -0.9212565 ],\n",
       "        [ 0.45193192,  0.501794  ,  0.22896616,  0.7842506 ,  0.48941258,\n",
       "          0.3674254 , -0.26384428],\n",
       "        [ 0.57995933,  0.18749754,  0.3149635 ,  0.28157324,  0.3725554 ,\n",
       "         -0.20329921, -0.60633767],\n",
       "        [-1.2974432 , -0.32366073,  0.34877953, -0.24839978, -0.17457803,\n",
       "          0.36696357, -0.7364462 ],\n",
       "        [-0.4252897 , -0.15241615, -0.0045346 , -0.1773796 , -0.23524116,\n",
       "         -0.866453  , -0.00224569],\n",
       "        [ 0.09442808,  0.24893317,  0.02257646,  0.30070814,  0.27178147,\n",
       "         -0.47237426, -0.22550713]], dtype=float32),\n",
       " array([-0.44072887,  0.41479924, -0.17755932,  0.2859251 ,  0.06308475,\n",
       "        -0.60764134,  0.31995732], dtype=float32),\n",
       " array([[ 0.41457358,  0.7247515 ,  0.808116  ,  0.4310012 , -1.5133636 ,\n",
       "          0.82613516],\n",
       "        [ 0.5678355 ,  0.41323256, -0.5048066 ,  0.3524237 , -0.2871748 ,\n",
       "          0.72619593],\n",
       "        [ 0.6744719 ,  0.59222585,  0.28471208,  0.3332787 , -0.52892214,\n",
       "          0.49330896],\n",
       "        [ 0.21454923,  0.16590013,  0.7770023 ,  0.10480887, -0.57184064,\n",
       "          0.1612847 ],\n",
       "        [ 0.4243123 ,  0.3104478 , -0.4046488 ,  0.31432837, -0.6629314 ,\n",
       "          0.7331257 ],\n",
       "        [-1.2551589 , -1.1012753 , -0.7032591 , -0.8333596 ,  0.9224905 ,\n",
       "         -0.82714546],\n",
       "        [-0.4826338 , -0.2788625 , -0.09587905, -0.17639013,  1.4825201 ,\n",
       "         -0.327823  ]], dtype=float32),\n",
       " array([ 0.02693375,  0.07068746, -0.00934867,  0.02712274, -0.40599352,\n",
       "         0.03062197], dtype=float32),\n",
       " array([[-0.4956421 ],\n",
       "        [-0.70488614],\n",
       "        [-1.1331476 ],\n",
       "        [-0.9136115 ],\n",
       "        [ 1.5212418 ],\n",
       "        [-0.39032173]], dtype=float32),\n",
       " array([-0.2851883], dtype=float32)]"
      ]
     },
     "execution_count": 51,
     "metadata": {},
     "output_type": "execute_result"
    }
   ],
   "source": [
    "classifier.get_weights() "
   ]
  },
  {
   "cell_type": "code",
   "execution_count": null,
   "metadata": {},
   "outputs": [],
   "source": []
  }
 ],
 "metadata": {
  "kernelspec": {
   "display_name": "Python 3",
   "language": "python",
   "name": "python3"
  },
  "language_info": {
   "codemirror_mode": {
    "name": "ipython",
    "version": 3
   },
   "file_extension": ".py",
   "mimetype": "text/x-python",
   "name": "python",
   "nbconvert_exporter": "python",
   "pygments_lexer": "ipython3",
   "version": "3.11.3"
  }
 },
 "nbformat": 4,
 "nbformat_minor": 2
}
