{
 "cells": [
  {
   "cell_type": "markdown",
   "metadata": {},
   "source": [
    "### Question 7 and 4\n"
   ]
  },
  {
   "cell_type": "code",
   "execution_count": 10,
   "metadata": {},
   "outputs": [
    {
     "name": "stdout",
     "output_type": "stream",
     "text": [
      "After appending e at an index [1, 2, 3, 4, 5, 6, 7]\n",
      "After Removal of e :  [1, 2, 3, 5, 6, 7]\n",
      "After appending of e :  [1, 2, 3, 5, 6, 7, 4]\n",
      "After sorting :  [1, 2, 3, 4, 5, 6, 7]\n",
      "After of removing the last element :  [1, 2, 3, 4, 5, 6]\n",
      "After of reversing the elements :  [6, 5, 4, 3, 2, 1]\n"
     ]
    }
   ],
   "source": [
    "\n",
    "list1=[1,2,3,5,6,7]\n",
    "e = 4\n",
    "\n",
    "list1.insert(3,e)\n",
    "print(\"After appending e at an index\",list1)\n",
    "\n",
    "list1.remove(4)\n",
    "print(\"After Removal of e : \",list1)\n",
    "\n",
    "list1.append(e)\n",
    "print(\"After appending of e : \",list1)\n",
    "\n",
    "list1.sort(reverse=False)    #Ascending Order\n",
    "print(\"After sorting : \",list1)\n",
    "\n",
    "list1.pop()\n",
    "print(\"After of removing the last element : \",list1)\n",
    "\n",
    "list1.reverse()\n",
    "print(\"After of reversing the elements : \",list1)"
   ]
  },
  {
   "cell_type": "markdown",
   "metadata": {},
   "source": [
    "### Question 6"
   ]
  },
  {
   "cell_type": "code",
   "execution_count": 2,
   "metadata": {},
   "outputs": [
    {
     "data": {
      "text/plain": [
       "[1, 1, 8, 27]"
      ]
     },
     "execution_count": 2,
     "metadata": {},
     "output_type": "execute_result"
    }
   ],
   "source": [
    "num = [1, 1, 2, 3]\n",
    "sq_no = list(map(lambda x: x ** 3, num))\n",
    "sq_no"
   ]
  },
  {
   "cell_type": "markdown",
   "metadata": {},
   "source": [
    "### Question 5"
   ]
  },
  {
   "cell_type": "code",
   "execution_count": 3,
   "metadata": {},
   "outputs": [
    {
     "name": "stdout",
     "output_type": "stream",
     "text": [
      "[8.1 9.2 6.7 1.2]\n"
     ]
    }
   ],
   "source": [
    "import numpy as np\n",
    "\n",
    "str= \"1.2 6.7 9.2 8.1\"\n",
    "n = list(map(float, str.split()))\n",
    "\n",
    "num = np.array(n)\n",
    "\n",
    "reverse = np.flip(num)\n",
    "\n",
    "print(reverse)"
   ]
  },
  {
   "cell_type": "markdown",
   "metadata": {},
   "source": [
    "### Question 3"
   ]
  },
  {
   "cell_type": "code",
   "execution_count": 1,
   "metadata": {},
   "outputs": [
    {
     "name": "stdout",
     "output_type": "stream",
     "text": [
      "True\n"
     ]
    }
   ],
   "source": [
    "def leap(year):\n",
    "    if year % 4 == 0:\n",
    "        if year % 100 != 0 or year % 400 == 0:\n",
    "            return True\n",
    "    return False\n",
    "\n",
    "#year = int(input(\"Enter a year: \"))\n",
    "year = 1992\n",
    "result = leap(year)\n",
    "print(result)\n",
    "\n",
    "#Input is 1992"
   ]
  },
  {
   "cell_type": "markdown",
   "metadata": {},
   "source": [
    "### Question 2"
   ]
  },
  {
   "cell_type": "code",
   "execution_count": 7,
   "metadata": {},
   "outputs": [
    {
     "name": "stdout",
     "output_type": "stream",
     "text": [
      "0\n",
      "1\n",
      "8\n",
      "27\n",
      "64\n",
      "125\n"
     ]
    }
   ],
   "source": [
    "#n = int(input(\"Enter a non-negative integer: \"))\n",
    "n=6\n",
    "for i in range(n):\n",
    "    print(i ** 3)"
   ]
  },
  {
   "cell_type": "code",
   "execution_count": null,
   "metadata": {},
   "outputs": [],
   "source": []
  }
 ],
 "metadata": {
  "kernelspec": {
   "display_name": "Python 3",
   "language": "python",
   "name": "python3"
  },
  "language_info": {
   "codemirror_mode": {
    "name": "ipython",
    "version": 3
   },
   "file_extension": ".py",
   "mimetype": "text/x-python",
   "name": "python",
   "nbconvert_exporter": "python",
   "pygments_lexer": "ipython3",
   "version": "3.11.3"
  },
  "orig_nbformat": 4
 },
 "nbformat": 4,
 "nbformat_minor": 2
}
